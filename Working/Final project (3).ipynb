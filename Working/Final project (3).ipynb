{
 "cells": [
  {
   "cell_type": "markdown",
   "metadata": {},
   "source": [
    "# 510 Students\n",
    "\n",
    "1. Use a completely different technique to classify cluster members.  How do your results compare to previous attempts?"
   ]
  },
  {
   "cell_type": "code",
   "execution_count": 642,
   "metadata": {},
   "outputs": [],
   "source": [
    "import numpy as np\n",
    "from scipy.special import expit\n",
    "from scipy.optimize import minimize\n",
    "import matplotlib.pyplot as plt\n",
    "import pandas as pd"
   ]
  },
  {
   "cell_type": "code",
   "execution_count": 643,
   "metadata": {},
   "outputs": [],
   "source": [
    "gaia_df = pd.read_csv('C:/Users/rabin/sci-comp-ii-fall24/Working/final_NGC-6397-project/data/gaia-NGC6397-neighborhood.csv')\n",
    "Cluster_df = pd.read_fwf('C:/Users/rabin/sci-comp-ii-fall24/Working/final_NGC-6397-project/data/NGC6397-1.dat')"
   ]
  },
  {
   "cell_type": "code",
   "execution_count": 644,
   "metadata": {},
   "outputs": [
    {
     "name": "stdout",
     "output_type": "stream",
     "text": [
      "             source_id         ra       dec  phot_g_mean_mag\n",
      "0  5921539825546549120  264.25211 -54.06070           19.086\n",
      "1  5921542265088057472  264.20510 -53.94871           18.252\n",
      "2  5921539585011442304  264.33958 -54.03101           19.001\n",
      "3  5921530887707179136  264.28545 -54.20321           17.558\n",
      "4  5921543192800960640  264.19193 -54.01173           19.580\n"
     ]
    }
   ],
   "source": [
    "# Assignning names manually because they don't have it.\n",
    "Cluster_df.columns = ['source_id', 'ra', 'dec', 'phot_g_mean_mag']\n",
    "\n",
    "# Verify the column names\n",
    "print(Cluster_df.head())"
   ]
  },
  {
   "cell_type": "code",
   "execution_count": 645,
   "metadata": {},
   "outputs": [],
   "source": [
    "# Sigmoid function\n",
    "def sigmoid(z):\n",
    "    return 1 / (1 + np.exp(-z))\n",
    "\n",
    "# Regularization term\n",
    "def cost(theta, X, y, reg):\n",
    "    m = len(y)\n",
    "    h = sigmoid(X.dot(theta))\n",
    "\n",
    "    epsilon = 1e-10\n",
    "    h = np.clip(h, epsilon, 1 - epsilon)\n",
    "    \n",
    "    # Calculate cost with regularization (skip regularizing theta[0] for the intercept)\n",
    "    J = -1/m * (y.T.dot(np.log(h)) + (1 - y).T.dot(np.log(1 - h)) + reg/(2*m) * np.sum(np.square(theta)))\n",
    "    \n",
    "    return J\n",
    "\n",
    "# Cost gradient\n",
    "def cost_gradient(theta, X, y, reg):\n",
    "    m = len(y)\n",
    "    h = sigmoid(X.dot(theta))\n",
    "    gradient = 1/m * X.T.dot(h - y) \n",
    "    gradient[1:] += (reg/m) * theta[1:]\n",
    "    return gradient\n",
    "\n",
    "\n",
    "# One-vs-All approach for multiple cluster classification\n",
    "def one_v_all(X, y, n_classes, reg=0.1):\n",
    "    n_samples, n_features = X.shape\n",
    "\n",
    "    thetas = np.zeros((n_classes, n_features))\n",
    "\n",
    "    for cls in range(n_classes):\n",
    "        y_binary = (y == cls).astype(int)\n",
    "        theta0 = np.zeros(n_features)\n",
    "        res = minimize(cost, theta0, args=(X, y_binary, reg), jac=cost_gradient, options={'maxiter': 50})\n",
    "        thetas[cls] = res.x\n",
    "    return thetas\n",
    "\n",
    "# Predict function for one-vs-all classifiers\n",
    "def predict_one_v_all(thetas, X):\n",
    "    Ps = expit(X.dot(thetas.T))\n",
    "    return np.argmax(Ps, axis=1)"
   ]
  },
  {
   "cell_type": "code",
   "execution_count": 646,
   "metadata": {},
   "outputs": [
    {
     "name": "stdout",
     "output_type": "stream",
     "text": [
      "21772\n"
     ]
    }
   ],
   "source": [
    "Cluster_sel = gaia_df['source_id'].isin(Cluster_df.source_id)\n",
    "print(np.count_nonzero(Cluster_sel))"
   ]
  },
  {
   "cell_type": "code",
   "execution_count": 647,
   "metadata": {},
   "outputs": [],
   "source": [
    "params = ['pmra', 'pmdec'] #I found this feature good in my previous exploration.\n",
    "X = np.array(gaia_df[params])"
   ]
  },
  {
   "cell_type": "code",
   "execution_count": 648,
   "metadata": {},
   "outputs": [
    {
     "data": {
      "text/plain": [
       "36346"
      ]
     },
     "execution_count": 648,
     "metadata": {},
     "output_type": "execute_result"
    }
   ],
   "source": [
    "np.count_nonzero(np.any(np.isnan(X), axis=1))"
   ]
  },
  {
   "cell_type": "code",
   "execution_count": 649,
   "metadata": {},
   "outputs": [],
   "source": [
    "nans = np.any(np.isnan(X), axis=1)\n",
    "X = X[~nans]\n",
    "\n",
    "n_classes = 2\n",
    "y = Cluster_sel.astype(int)[~nans]"
   ]
  },
  {
   "cell_type": "code",
   "execution_count": 650,
   "metadata": {},
   "outputs": [],
   "source": [
    "from sklearn.preprocessing import StandardScaler"
   ]
  },
  {
   "cell_type": "code",
   "execution_count": 651,
   "metadata": {},
   "outputs": [],
   "source": [
    "transformer = StandardScaler()\n",
    "\n",
    "X = transformer.fit_transform(X)"
   ]
  },
  {
   "cell_type": "code",
   "execution_count": 652,
   "metadata": {},
   "outputs": [],
   "source": [
    "# Split data into training and testing (for example, 90% for training, 10% for testing)\n",
    "training = np.random.choice([True, False], size=len(X), p=[0.9, 0.1])\n",
    "validating = ~training\n",
    "X_train = X[training]\n",
    "y_train = y[training]\n",
    "X_test = X[validating]\n",
    "y_test = y[validating]"
   ]
  },
  {
   "cell_type": "code",
   "execution_count": 653,
   "metadata": {},
   "outputs": [],
   "source": [
    "# Add bias term (intercept) to the features\n",
    "X_train = np.column_stack([np.ones((X_train.shape[0], 1)), X_train])\n",
    "X_test = np.column_stack([np.ones((X_test.shape[0], 1)), X_test])"
   ]
  },
  {
   "cell_type": "code",
   "execution_count": 654,
   "metadata": {},
   "outputs": [],
   "source": [
    "X_train_subset = X_train[:10000]  # Train on a smaller subset of the data\n",
    "y_train_subset = y_train[:10000]\n",
    "X_test_subset = X_test[:10000]  \n",
    "y_test_subset = y_test[:10000]"
   ]
  },
  {
   "cell_type": "code",
   "execution_count": 655,
   "metadata": {},
   "outputs": [],
   "source": [
    "# Train a logistic regression model\n",
    "theta = one_v_all(X_train_subset, y_train_subset, 2)  "
   ]
  },
  {
   "cell_type": "code",
   "execution_count": 656,
   "metadata": {},
   "outputs": [],
   "source": [
    "pred = predict_one_v_all(theta, X_test_subset)"
   ]
  },
  {
   "cell_type": "code",
   "execution_count": 657,
   "metadata": {},
   "outputs": [
    {
     "name": "stdout",
     "output_type": "stream",
     "text": [
      "Training accuracy: 99.85%\n",
      "Validation accuracy: 96.83%\n"
     ]
    }
   ],
   "source": [
    "# Evaluate the model\n",
    "training_acc = np.mean(pred == y_train_subset) * 100\n",
    "validation_acc = np.mean(pred == y_test_subset) * 100\n",
    "print(f'Training accuracy: {training_acc:.2f}%')\n",
    "print(f'Validation accuracy: {validation_acc:.2f}%')"
   ]
  },
  {
   "cell_type": "markdown",
   "metadata": {},
   "source": [
    "2. Do you think your models have learned anything useful for identifying members of other clusters?  Why or why not?"
   ]
  },
  {
   "cell_type": "markdown",
   "metadata": {},
   "source": [
    "I dont think my model learned anything for identifying members of other clusters as it was hard to read all the data that was inside the gaia data frame."
   ]
  },
  {
   "cell_type": "code",
   "execution_count": 658,
   "metadata": {},
   "outputs": [
    {
     "data": {
      "text/plain": [
       "<function matplotlib.pyplot.show(close=None, block=None)>"
      ]
     },
     "execution_count": 658,
     "metadata": {},
     "output_type": "execute_result"
    },
    {
     "data": {
      "image/png": "[encoded data removed]",
      "text/plain": [
       "<Figure size 640x480 with 2 Axes>"
      ]
     },
     "metadata": {},
     "output_type": "display_data"
    }
   ],
   "source": [
    "from sklearn.metrics import confusion_matrix, ConfusionMatrixDisplay\n",
    "\n",
    "M = confusion_matrix(y_test_subset, pred)\n",
    "\n",
    "Visualization = ConfusionMatrixDisplay(confusion_matrix=M)\n",
    "Visualization.plot()\n",
    "plt.show"
   ]
  },
  {
   "cell_type": "markdown",
   "metadata": {},
   "source": [
    "3. Can you think of ways we could use the isochrone explicitly to improve our model?"
   ]
  },
  {
   "cell_type": "code",
   "execution_count": 659,
   "metadata": {},
   "outputs": [
    {
     "data": {
      "text/html": [
       "<div>\n",
       "<style scoped>\n",
       "    .dataframe tbody tr th:only-of-type {\n",
       "        vertical-align: middle;\n",
       "    }\n",
       "\n",
       "    .dataframe tbody tr th {\n",
       "        vertical-align: top;\n",
       "    }\n",
       "\n",
       "    .dataframe thead th {\n",
       "        text-align: right;\n",
       "    }\n",
       "</style>\n",
       "<table border=\"1\" class=\"dataframe\">\n",
       "  <thead>\n",
       "    <tr style=\"text-align: right;\">\n",
       "      <th></th>\n",
       "      <th>Unnamed: 0</th>\n",
       "      <th>bp_rp</th>\n",
       "      <th>Gaia_G_EDR3</th>\n",
       "      <th>phase</th>\n",
       "    </tr>\n",
       "  </thead>\n",
       "  <tbody>\n",
       "    <tr>\n",
       "      <th>0</th>\n",
       "      <td>0</td>\n",
       "      <td>2.239831</td>\n",
       "      <td>24.494631</td>\n",
       "      <td>0.0</td>\n",
       "    </tr>\n",
       "    <tr>\n",
       "      <th>1</th>\n",
       "      <td>1</td>\n",
       "      <td>2.217666</td>\n",
       "      <td>24.409392</td>\n",
       "      <td>0.0</td>\n",
       "    </tr>\n",
       "    <tr>\n",
       "      <th>2</th>\n",
       "      <td>2</td>\n",
       "      <td>2.194527</td>\n",
       "      <td>24.315058</td>\n",
       "      <td>0.0</td>\n",
       "    </tr>\n",
       "    <tr>\n",
       "      <th>3</th>\n",
       "      <td>3</td>\n",
       "      <td>2.172080</td>\n",
       "      <td>24.221950</td>\n",
       "      <td>0.0</td>\n",
       "    </tr>\n",
       "    <tr>\n",
       "      <th>4</th>\n",
       "      <td>4</td>\n",
       "      <td>2.150091</td>\n",
       "      <td>24.129340</td>\n",
       "      <td>0.0</td>\n",
       "    </tr>\n",
       "    <tr>\n",
       "      <th>...</th>\n",
       "      <td>...</td>\n",
       "      <td>...</td>\n",
       "      <td>...</td>\n",
       "      <td>...</td>\n",
       "    </tr>\n",
       "    <tr>\n",
       "      <th>1447</th>\n",
       "      <td>1447</td>\n",
       "      <td>-0.087272</td>\n",
       "      <td>22.475614</td>\n",
       "      <td>6.0</td>\n",
       "    </tr>\n",
       "    <tr>\n",
       "      <th>1448</th>\n",
       "      <td>1448</td>\n",
       "      <td>-0.080667</td>\n",
       "      <td>22.519457</td>\n",
       "      <td>6.0</td>\n",
       "    </tr>\n",
       "    <tr>\n",
       "      <th>1449</th>\n",
       "      <td>1449</td>\n",
       "      <td>-0.074041</td>\n",
       "      <td>22.562334</td>\n",
       "      <td>6.0</td>\n",
       "    </tr>\n",
       "    <tr>\n",
       "      <th>1450</th>\n",
       "      <td>1450</td>\n",
       "      <td>-0.067388</td>\n",
       "      <td>22.604324</td>\n",
       "      <td>6.0</td>\n",
       "    </tr>\n",
       "    <tr>\n",
       "      <th>1451</th>\n",
       "      <td>1451</td>\n",
       "      <td>-0.060713</td>\n",
       "      <td>22.645508</td>\n",
       "      <td>6.0</td>\n",
       "    </tr>\n",
       "  </tbody>\n",
       "</table>\n",
       "<p>1452 rows × 4 columns</p>\n",
       "</div>"
      ],
      "text/plain": [
       "      Unnamed: 0     bp_rp  Gaia_G_EDR3  phase\n",
       "0              0  2.239831    24.494631    0.0\n",
       "1              1  2.217666    24.409392    0.0\n",
       "2              2  2.194527    24.315058    0.0\n",
       "3              3  2.172080    24.221950    0.0\n",
       "4              4  2.150091    24.129340    0.0\n",
       "...          ...       ...          ...    ...\n",
       "1447        1447 -0.087272    22.475614    6.0\n",
       "1448        1448 -0.080667    22.519457    6.0\n",
       "1449        1449 -0.074041    22.562334    6.0\n",
       "1450        1450 -0.067388    22.604324    6.0\n",
       "1451        1451 -0.060713    22.645508    6.0\n",
       "\n",
       "[1452 rows x 4 columns]"
      ]
     },
     "execution_count": 659,
     "metadata": {},
     "output_type": "execute_result"
    }
   ],
   "source": [
    "iso_data = pd.read_csv('C:/Users/rabin/sci-comp-ii-fall24/Working/final_NGC-6397-project/data/NGC6397_iso.csv')\n",
    "iso_data"
   ]
  },
  {
   "cell_type": "code",
   "execution_count": 660,
   "metadata": {},
   "outputs": [],
   "source": [
    "# Sigmoid function\n",
    "def sigmoid(z):\n",
    "    return 1 / (1 + np.exp(-z))\n",
    "\n",
    "# Regularization term\n",
    "def cost(theta, X, y, reg):\n",
    "    m = len(y)\n",
    "    h = sigmoid(X.dot(theta)) \n",
    "\n",
    "    epsilon = 1e-10\n",
    "    h = np.clip(h, epsilon, 1 - epsilon)\n",
    "    \n",
    "    # Calculate cost with regularization \n",
    "    J = -1/m * (y.T.dot(np.log(h)) + (1 - y).T.dot(np.log(1 - h)) + reg/(2*m) * np.sum(np.square(theta)))\n",
    "    \n",
    "    return J\n",
    "\n",
    "# Cost gradient\n",
    "def cost_gradient(theta, X, y, reg):\n",
    "    m = len(y)\n",
    "    h = sigmoid(X.dot(theta))\n",
    "    gradient = 1/m * X.T.dot(h - y) \n",
    "    gradient[1:] += (reg/m) * theta[1:]\n",
    "    return gradient\n",
    "\n",
    "# One-vs-All approach for multiple cluster classification\n",
    "def one_v_all(X, y, n_classes, reg=0.1):\n",
    "    n_samples, n_features = X.shape\n",
    "\n",
    "    thetas = np.zeros((n_classes, n_features))\n",
    "\n",
    "    for cls in range(n_classes):\n",
    "        y_binary = (y == cls).astype(int)\n",
    "        theta0 = np.zeros(n_features)\n",
    "        res = minimize(cost, theta0, args=(X, y_binary, reg), jac=cost_gradient, options={'maxiter': 50})\n",
    "        thetas[cls] = res.x\n",
    "    return thetas\n",
    "\n",
    "# Predict function for one-vs-all classifiers\n",
    "def predict_one_v_all(thetas, X):\n",
    "    Ps = expit(X.dot(thetas.T))\n",
    "    return np.argmax(Ps, axis=1)"
   ]
  },
  {
   "cell_type": "code",
   "execution_count": 661,
   "metadata": {},
   "outputs": [
    {
     "data": {
      "text/plain": [
       "(1452, 2)"
      ]
     },
     "execution_count": 661,
     "metadata": {},
     "output_type": "execute_result"
    }
   ],
   "source": [
    "params = ['bp_rp', 'Gaia_G_EDR3']\n",
    "X = np.array(iso_data[params])\n",
    "X.shape"
   ]
  },
  {
   "cell_type": "code",
   "execution_count": 662,
   "metadata": {},
   "outputs": [
    {
     "data": {
      "text/plain": [
       "0"
      ]
     },
     "execution_count": 662,
     "metadata": {},
     "output_type": "execute_result"
    }
   ],
   "source": [
    "np.count_nonzero(np.any(np.isnan(X), axis=1))"
   ]
  },
  {
   "cell_type": "code",
   "execution_count": 663,
   "metadata": {},
   "outputs": [],
   "source": [
    "nans = np.any(np.isnan(X), axis=1)\n",
    "X = X[~nans]\n",
    "\n",
    "n_classes = 2\n",
    "y = iso_data['phase'].astype(int)[~nans]"
   ]
  },
  {
   "cell_type": "code",
   "execution_count": 664,
   "metadata": {},
   "outputs": [],
   "source": [
    "from sklearn.preprocessing import StandardScaler"
   ]
  },
  {
   "cell_type": "code",
   "execution_count": 665,
   "metadata": {},
   "outputs": [],
   "source": [
    "transformer = StandardScaler()\n",
    "\n",
    "X = transformer.fit_transform(X)"
   ]
  },
  {
   "cell_type": "code",
   "execution_count": 666,
   "metadata": {},
   "outputs": [],
   "source": [
    "# Split data into training and testing\n",
    "training = np.random.choice([True, False], size=len(X), p=[0.9, 0.1])\n",
    "validating = ~training\n",
    "X_train_iso = X[training]\n",
    "y_train_iso = y[training]\n",
    "X_test_iso = X[validating]\n",
    "y_test_iso = y[validating]"
   ]
  },
  {
   "cell_type": "code",
   "execution_count": 667,
   "metadata": {},
   "outputs": [],
   "source": [
    "# Add bias term (intercept) to the features\n",
    "X_train_iso = np.column_stack([np.ones((X_train_iso.shape[0], 1)), X_train_iso])\n",
    "X_test_iso = np.column_stack([np.ones((X_test_iso.shape[0], 1)), X_test_iso])"
   ]
  },
  {
   "cell_type": "code",
   "execution_count": 668,
   "metadata": {},
   "outputs": [],
   "source": [
    "X_train_subset_iso = X_train_iso[:100]  # Train on a smaller subset of the data\n",
    "y_train_subset_iso = y_train_iso[:100]\n",
    "X_test_subset_iso = X_test_iso[:100]  \n",
    "y_test_subset_iso = y_test_iso[:100]"
   ]
  },
  {
   "cell_type": "code",
   "execution_count": 669,
   "metadata": {},
   "outputs": [],
   "source": [
    "# Train a logistic regression model\n",
    "theta_iso = one_v_all(X_train_subset_iso, y_train_subset_iso, 2)"
   ]
  },
  {
   "cell_type": "code",
   "execution_count": 670,
   "metadata": {},
   "outputs": [],
   "source": [
    "# Train a logistic regression model\n",
    "theta_iso = one_v_all(X_train_subset_iso, y_train_subset_iso, 2)"
   ]
  },
  {
   "cell_type": "code",
   "execution_count": 671,
   "metadata": {},
   "outputs": [],
   "source": [
    "pred_iso = predict_one_v_all(theta_iso, X_test_subset_iso)\n"
   ]
  },
  {
   "cell_type": "code",
   "execution_count": 672,
   "metadata": {},
   "outputs": [
    {
     "name": "stdout",
     "output_type": "stream",
     "text": [
      "Training accuracy: 100.00%\n",
      "Validation accuracy: 20.00%\n"
     ]
    }
   ],
   "source": [
    "# Evaluate the model\n",
    "training_acc = np.mean(pred_iso == y_train_subset_iso) * 100\n",
    "validation_acc = np.mean(pred_iso == y_test_subset_iso) * 100\n",
    "print(f'Training accuracy: {training_acc:.2f}%')\n",
    "print(f'Validation accuracy: {validation_acc:.2f}%')"
   ]
  },
  {
   "cell_type": "code",
   "execution_count": 673,
   "metadata": {},
   "outputs": [
    {
     "data": {
      "text/plain": [
       "<function matplotlib.pyplot.show(close=None, block=None)>"
      ]
     },
     "execution_count": 673,
     "metadata": {},
     "output_type": "execute_result"
    },
    {
     "data": {
      "image/png": "[encoded data removed]",
      "text/plain": [
       "<Figure size 640x480 with 2 Axes>"
      ]
     },
     "metadata": {},
     "output_type": "display_data"
    }
   ],
   "source": [
    "\n",
    "from sklearn.metrics import confusion_matrix, ConfusionMatrixDisplay\n",
    "\n",
    "M = confusion_matrix(y_test_subset, pred)\n",
    "\n",
    "Visualization = ConfusionMatrixDisplay(confusion_matrix=M)\n",
    "Visualization.plot()\n",
    "plt.show"
   ]
  },
  {
   "cell_type": "markdown",
   "metadata": {},
   "source": [
    "I think the problem is not choosing an appropriate model that has many constraints while dealing with a large data file. Validity accuracy is so low, but training accuracy is 100%, implying the model is not reading from generalized data but instead taking knowledge from limited trained data."
   ]
  },
  {
   "cell_type": "markdown",
   "metadata": {},
   "source": []
  }
 ],
 "metadata": {
  "kernelspec": {
   "display_name": "Python 3",
   "language": "python",
   "name": "python3"
  },
  "language_info": {
   "codemirror_mode": {
    "name": "ipython",
    "version": 3
   },
   "file_extension": ".py",
   "mimetype": "text/x-python",
   "name": "python",
   "nbconvert_exporter": "python",
   "pygments_lexer": "ipython3",
   "version": "3.11.9"
  }
 },
 "nbformat": 4,
 "nbformat_minor": 2
}

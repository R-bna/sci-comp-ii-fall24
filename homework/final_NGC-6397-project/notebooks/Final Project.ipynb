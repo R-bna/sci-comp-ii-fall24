{
 "cells": [
  {
   "attachments": {},
   "cell_type": "markdown",
   "id": "45856b3c-5025-4fce-a58f-c22c340f6e59",
   "metadata": {},
   "source": [
    "# Globular Cluster Member Identification: NGC 6397\n",
    "NGC 6397 is the second closest globular cluster to Earth (second to M4).  Similar to our exploration of M4 using Gaia, we're going to make use of a catalog of confidently identified stellar members of the cluster to train classifiers capable of making such classifications from Gaia observations.\n",
    "\n",
    "First we'll download the necessary data.  The catalog was originally pulled from [here](http://cdsarc.u-strasbg.fr/ftp/J/A+A/616/A12/), and can be found in `data/NGC6397-1.dat`."
   ]
  },
  {
   "attachments": {},
   "cell_type": "markdown",
   "id": "db9e5bdd-e6a0-4863-bc5b-bdf47204ce82",
   "metadata": {},
   "source": [
    "From the Gaia archive we'll pull all objects in a 2 deg x 1.5 deg box centered on the cluster.  The query used is below, which was used to generate `data/gaia-NGC6397-neighborhood.csv`.\n",
    "\n",
    "```sql\n",
    "SELECT TOP 500000 gaia_source.source_id,gaia_source.ra,gaia_source.dec,gaia_source.parallax,gaia_source.parallax_error,gaia_source.pm,gaia_source.pmra,gaia_source.pmra_error,gaia_source.pmdec,gaia_source.pmdec_error,gaia_source.phot_g_mean_mag,gaia_source.phot_bp_mean_mag,gaia_source.phot_rp_mean_mag,gaia_source.bp_rp,gaia_source.radial_velocity,gaia_source.radial_velocity_error\n",
    "FROM gaiadr3.gaia_source \n",
    "WHERE \n",
    "CONTAINS(\n",
    "\tPOINT('ICRS',gaiadr3.gaia_source.ra,gaiadr3.gaia_source.dec),\n",
    "\tBOX('ICRS',265.17,-53.68,2,1.5)\n",
    ")=1\n",
    "```"
   ]
  },
  {
   "attachments": {},
   "cell_type": "markdown",
   "id": "ceb27224-6eff-4259-a76a-bbc2592111cf",
   "metadata": {},
   "source": [
    "# 1. Classification\n",
    "\n",
    "1. Load the data and cross match the confident cluster members with the larger Gaia sample."
   ]
  },
  {
   "cell_type": "code",
   "execution_count": null,
   "id": "95798c13-8448-4067-9fcb-018b2875fd4b",
   "metadata": {},
   "outputs": [],
   "source": []
  },
  {
   "attachments": {},
   "cell_type": "markdown",
   "id": "5975a82d-ed17-4a4d-83f5-7e5033a72d9e",
   "metadata": {},
   "source": [
    "2. Explore the data, sticking to position (e.g., ra, dec, etc.) and velocity (e.g. pm, etc.) measurements for now.  Are there particular observed quantities that seem useful for distinguishing cluster members from background stars?  Be sure to include lots of figures and discussion!"
   ]
  },
  {
   "cell_type": "code",
   "execution_count": null,
   "id": "60a41a93-8480-4b93-b53e-851423ee04f4",
   "metadata": {},
   "outputs": [],
   "source": []
  },
  {
   "attachments": {},
   "cell_type": "markdown",
   "id": "a2d22d7a-a62f-43d6-8f5d-bf5484d6fc9c",
   "metadata": {},
   "source": [
    "3. Build and train a model (the type of model is up to you!) for classifying stars as members or non-members of NGC 6397 based on Gaia observations.  Be sure to show your process for building and improving the model."
   ]
  },
  {
   "cell_type": "code",
   "execution_count": null,
   "id": "09e35f69-e2e7-465a-bb7e-cca568506246",
   "metadata": {},
   "outputs": [],
   "source": []
  },
  {
   "attachments": {},
   "cell_type": "markdown",
   "id": "d6ba0315-3fe3-4bdf-b82d-e34e1bfa1a6e",
   "metadata": {},
   "source": [
    "4. How is your final model performing?  Could it have overfit the data?  Is it clear what the model learned?"
   ]
  },
  {
   "cell_type": "code",
   "execution_count": null,
   "id": "31361ecb-1b62-4761-8945-29a49e66dd30",
   "metadata": {},
   "outputs": [],
   "source": []
  },
  {
   "attachments": {},
   "cell_type": "markdown",
   "id": "2897cf73-636a-4fb4-852c-bbd3873f8ad2",
   "metadata": {},
   "source": [
    "5. Does your model find any new cluster member candidates?  If so, explore their properties.  Do they seem compelling?  Be sure to connect this discussion back to your response to 1.1."
   ]
  },
  {
   "cell_type": "code",
   "execution_count": null,
   "id": "75727eb0-8961-43a2-941f-18c05d4f4f67",
   "metadata": {},
   "outputs": [],
   "source": []
  },
  {
   "attachments": {},
   "cell_type": "markdown",
   "id": "9844f301-1c59-4098-8a16-e4ffcef935f5",
   "metadata": {},
   "source": [
    "# 2. Isochrones\n",
    "\n",
    "Recall that stellar clusters are gravitationally bound groupings of stars born at the same time.  By looking at the H-R diagram of a cluster -- specifically where the population _leaves_ the main sequence -- we can determine the age of the cluster.  To do this we must know the typical main sequence lifetime of stars, which depends on their mass, metalicity, etc. and for that we must turn to stellar modeling.  [MESA](https://docs.mesastar.org) is a stellar modeling library which incorporates the physics important for stellar evolution into 1-D models of stars.  The results useful for our purposes are stellar evolution tracks, the expected trajectory of the star through the H-R diagram as it evolves in time.\n",
    "\n",
    "[MIST](http://waps.cfa.harvard.edu/MIST/index.html) is an effort to supply a large database of MESA stellar track simulations for the purpose of producing isochrones.  If you imagine stacking up a cluster's worth of stellar evolution tracks, slicing through them at fixed age will produce an isochrone.\n",
    "\n",
    "I've used the [MIST isochrone interpolator](http://waps.cfa.harvard.edu/MIST/interp_isos.html) to produce an isochrone based on known properties of NGC 6397 (metalicity, reddening due to dust, etc.), and saved `BP-RP`, `Gaia_G_EDR3=phot_g_mean_mag` (with distance modulus already applied), and phase (indicating stellar evolutionary phase) to a CSV file, `data/NGC6397_iso.csv`."
   ]
  },
  {
   "attachments": {},
   "cell_type": "markdown",
   "id": "4c02ad3f-e1f5-4e31-95a1-121bb69dbc74",
   "metadata": {},
   "source": [
    "1. Read in and plot the isochrone in all its messy glory.  Try encoding stellar phase information (e.g., using color) if you can, to get a better grasp on the various stellar phases we're looking at (remember, more info on what this indicates can be found [here](http://waps.cfa.harvard.edu/MIST/README_tables.pdf))."
   ]
  },
  {
   "cell_type": "code",
   "execution_count": null,
   "id": "12b6aa76-3b3e-45b8-b5ea-b2b8eddb8813",
   "metadata": {},
   "outputs": [],
   "source": []
  },
  {
   "attachments": {},
   "cell_type": "markdown",
   "id": "95694efc-6e9b-4e72-aacb-f204e0efaff0",
   "metadata": {},
   "source": [
    "2. Plot all of the Gaia data we pulled along with the isochrone.  In a new figure, plot the cluster members identified in `NGC6397-1.dat` with the isochrone."
   ]
  },
  {
   "cell_type": "code",
   "execution_count": null,
   "id": "ef42ce95-2281-4a57-9274-1bd88d3677e6",
   "metadata": {},
   "outputs": [],
   "source": []
  },
  {
   "attachments": {},
   "cell_type": "markdown",
   "id": "26854185-5a57-4b9e-9676-0d9bc3b67e2b",
   "metadata": {},
   "source": [
    "3. Use the isochrone to argue whether any new cluster candidates your classifier found are viable."
   ]
  },
  {
   "cell_type": "code",
   "execution_count": null,
   "id": "541ce4ea-8869-4c5f-b244-52a6465a3bc5",
   "metadata": {},
   "outputs": [],
   "source": []
  },
  {
   "attachments": {},
   "cell_type": "markdown",
   "id": "076d3a37-57b6-4d7a-bad9-c78fc603799d",
   "metadata": {},
   "source": [
    "4. Now include color and brightness information in your model and retrain your classifier.  Does it perform any better?  Did you expect the outcome?"
   ]
  },
  {
   "cell_type": "code",
   "execution_count": null,
   "id": "25a3deb4-e2a0-442b-8073-02e3cee08cfe",
   "metadata": {},
   "outputs": [],
   "source": []
  },
  {
   "attachments": {},
   "cell_type": "markdown",
   "id": "da683e64-a3c8-4478-ad11-244d185ba572",
   "metadata": {},
   "source": [
    "# 510 Students\n",
    "\n",
    "1. Use a completely different technique to classify cluster members.  How do your results compare to previous attempts?"
   ]
  },
  {
   "cell_type": "code",
   "execution_count": null,
   "id": "68daac42-9035-47b1-9616-4cb37d28008b",
   "metadata": {},
   "outputs": [],
   "source": []
  },
  {
   "attachments": {},
   "cell_type": "markdown",
   "id": "2299a795-eb84-45c3-b758-6317635b7662",
   "metadata": {},
   "source": [
    "2. Do you think your models have learned anything useful for identifying members of other clusters?  Why or why not?"
   ]
  },
  {
   "cell_type": "code",
   "execution_count": null,
   "id": "bea37355-79f4-4b18-a236-bd1c56ee4933",
   "metadata": {},
   "outputs": [],
   "source": []
  },
  {
   "attachments": {},
   "cell_type": "markdown",
   "id": "bf174a11-3880-474d-8b3e-7f8af3aaae83",
   "metadata": {},
   "source": [
    "3. Can you think of ways we could use the isochrone explicitly to improve our model?"
   ]
  },
  {
   "cell_type": "code",
   "execution_count": null,
   "id": "4a06f802-8887-4d35-b5af-0e977e5facfb",
   "metadata": {},
   "outputs": [],
   "source": []
  }
 ],
 "metadata": {
  "kernelspec": {
   "display_name": "Python 3 (ipykernel)",
   "language": "python",
   "name": "python3"
  },
  "language_info": {
   "codemirror_mode": {
    "name": "ipython",
    "version": 3
   },
   "file_extension": ".py",
   "mimetype": "text/x-python",
   "name": "python",
   "nbconvert_exporter": "python",
   "pygments_lexer": "ipython3",
   "version": "3.9.16"
  }
 },
 "nbformat": 4,
 "nbformat_minor": 5
}

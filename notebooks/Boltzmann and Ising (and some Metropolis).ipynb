{
 "cells": [
  {
   "cell_type": "code",
   "execution_count": 1,
   "id": "streaming-mobile",
   "metadata": {},
   "outputs": [],
   "source": [
    "import numpy as np\n",
    "import matplotlib.pyplot as plt"
   ]
  },
  {
   "attachments": {},
   "cell_type": "markdown",
   "id": "equivalent-ghana",
   "metadata": {},
   "source": [
    "# Entropy and the Boltzmann Distribution\n",
    "\n",
    "Recall _entropy_, the measure of uncertainty about a system given its macroscopic properties (e.g., temperature, pressure, volume).  It measures how probability is spread over the possible _microstates_ of the system.\n",
    "\n",
    "$$\n",
    "S = -k\\sum_\\omega p_\\omega \\log p_\\omega,\n",
    "$$\n",
    "\n",
    "where $\\omega$ enumerates all possible microstates, and $p_\\omega$ is the probability of the system occupying each state.  This is the _statistical mechanics_ definition of entropy.  The _thermodynamic_ definition of entropy $dS = \\frac{\\delta Q}{T}$ relating the change in entropy in a closed system to incremental and reversable transfer of heat $\\delta Q$ into that system of temperature $T$.  Demanding these definitions be equal (and making use of the _fundamental thermodynamic relation_ $dU = T dS - p dV$) leads to the _Boltzmann distribution_ as the solution for describing the probability of a system occupying a particular microstate $\\omega$ is\n",
    "\n",
    "$$\n",
    "p_\\omega = \\frac{e^{-E_\\omega/kT}}{Z},\n",
    "$$\n",
    "\n",
    "where $Z$ the normalization constant resulting from summing the numerator over all possible microstates of the system $\\Omega$\n",
    "\n",
    "$$\n",
    "Z = \\sum_{\\omega'\\in \\Omega}e^{-E_{\\omega'}/kT}.\n",
    "$$\n",
    "\n",
    "## The Ising Model\n",
    "\n",
    "We'll use the Boltzmann distribution above to simulate a ferromagnet using a simple, two-dimensional _Ising model_. This model constructs a ferromagnet as a 2-D lattice with $N$ sites, and the spin of each lattice site can be up or down, which we'll representent as $+1$ and $-1$, respectively.\n",
    "\n",
    "A configuration of the microstate of this system is given by $\\omega = \\{\\omega_1, \\omega_2, \\dots, \\omega_N\\}$, where $\\omega_i=\\pm 1$, meaning there are $|\\Omega|=2^N$ possible microstates of the system.\n",
    "\n",
    "Let's construct a small latice with random initial spins."
   ]
  },
  {
   "cell_type": "code",
   "execution_count": 2,
   "id": "stylish-commodity",
   "metadata": {},
   "outputs": [
    {
     "data": {
      "image/png": "[encoded data removed]",
      "text/plain": [
       "<Figure size 640x480 with 2 Axes>"
      ]
     },
     "metadata": {},
     "output_type": "display_data"
    }
   ],
   "source": [
    "ngrid = 10\n",
    "N = int(ngrid**2)\n",
    "\n",
    "state = np.random.choice([-1, 1], size=(ngrid, ngrid))\n",
    "plt.imshow(state, cmap='gray')\n",
    "cbar = plt.colorbar()\n",
    "cbar.set_ticks([-1, 1]);"
   ]
  },
  {
   "cell_type": "markdown",
   "id": "affecting-orange",
   "metadata": {},
   "source": [
    "We'll define the energy of a particular configuration to be\n",
    "\n",
    "$$\n",
    "E_\\omega = -J\\sum_{\\left<i,j\\right>}\\omega_i\\omega_j - H\\sum_{i=1}^N\\omega_i,\n",
    "$$\n",
    "\n",
    "where $\\left<i,j\\right>$ indicates adjacent (i.e., nearest neighbor) sites (vertically or horizontally), $J>0$ drives the strength of coupling between nearest-neighbors, and $H>0$ represents the strength of an external field."
   ]
  },
  {
   "cell_type": "code",
   "execution_count": 3,
   "id": "union-skating",
   "metadata": {},
   "outputs": [],
   "source": [
    "def energy(state, J=1., H=0.):\n",
    "    steps = [1, -1]\n",
    "    axes = [0, 1]\n",
    "    E = 0\n",
    "    for step in steps:\n",
    "        for axis in axes:\n",
    "            E -= J * np.sum(state * np.roll(state, step, axis=axis))\n",
    "    E -= H * np.sum(state)\n",
    "    return E"
   ]
  },
  {
   "cell_type": "code",
   "execution_count": 4,
   "id": "interpreted-simulation",
   "metadata": {},
   "outputs": [
    {
     "data": {
      "text/plain": [
       "-8.0"
      ]
     },
     "execution_count": 4,
     "metadata": {},
     "output_type": "execute_result"
    }
   ],
   "source": [
    "energy(state)"
   ]
  },
  {
   "cell_type": "markdown",
   "id": "structural-murder",
   "metadata": {},
   "source": [
    "Now that we can calculate the energy of any particular microstate $\\omega$, we can calculate the (relative) probability of occupying that state using the Boltzmann distribution."
   ]
  },
  {
   "cell_type": "code",
   "execution_count": 5,
   "id": "monthly-onion",
   "metadata": {},
   "outputs": [],
   "source": [
    "def lnBoltz(state, kT=1., J=1., H=0.):\n",
    "    return -energy(state, J=J, H=H)/kT"
   ]
  }
 ],
 "metadata": {
  "kernelspec": {
   "display_name": "Python 3 (ipykernel)",
   "language": "python",
   "name": "python3"
  },
  "language_info": {
   "codemirror_mode": {
    "name": "ipython",
    "version": 3
   },
   "file_extension": ".py",
   "mimetype": "text/x-python",
   "name": "python",
   "nbconvert_exporter": "python",
   "pygments_lexer": "ipython3",
   "version": "3.11.3"
  }
 },
 "nbformat": 4,
 "nbformat_minor": 5
}

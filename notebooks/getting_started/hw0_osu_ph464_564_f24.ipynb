{
 "cells": [
  {
   "cell_type": "markdown",
   "metadata": {},
   "source": [
    "### PH464/564: Scientific Computing II\n",
    "***J.S. Hazboun***\n",
    "___\n",
    "\n",
    "# Lecture/Homework 0\n",
    "### Due: Friday, Sept 28th at 11:59pm Pacific\n",
    "---"
   ]
  },
  {
   "cell_type": "markdown",
   "metadata": {},
   "source": [
    "## Problem 1\n",
    "If you are not familiar with `git`/GitHub please look at the README in this directory _first_, make a GitHub account \n",
    "\n",
    "Next you'll need to setup some security protocols since the class repository and your repository will be private. Choose whether you would like to use security tokens or `ssh` and follow the appropriate section of this [tutorial](https://www.wwwinsights.com/webinfra/git/clone-a-github-private-repository/). This will likely require you to set up two-factor authentication through DUO :-(\n",
    "\n",
    "1) Join the class Slack workspace using this [link]().\n",
    "\n",
    "2) Ok, now practice your git and GitHub skills by submitting this homework via GitHub.  Navigate to https://github.com/oregonstate-physics/sci-comp-ii-fall24 on your browser. **Don't clone this!** Instead, look to the rop right of the page for an option to fork the repository. Do this now. This will make a copy of the class repository for your own personal use.\n",
    "\n",
    "3) Now that you have a fork of the repository, clone it to your machine. I suggest making a larger directory named `/ph464_fall2024/` or something like that. There will be at least one more repository in the folder.\n",
    "```bash\n",
    "    > git clone https://github.com/YOUR_GITHUB_USERNAME/sci-comp-ii-fall24\n",
    "```\n",
    "4) Add the original `oregonstate-physics` repository as an `upstream` repository to your fork. First, list the current configured remote repository for your fork with:\n",
    "    > git remote -v\n",
    "    \n",
    "Now, add the `oregonstate-physics` repo as an upstream:\n",
    "\n",
    "    $ git remote add upstream https://github.com/oregonstate-physics/sci-comp-ii-fall24\n",
    "    \n",
    "Verify that the new repository shows as an `upstream` by running `git remote -v` again.\n",
    "\n",
    "5) Get used to syncing upstream content to your fork with:\n",
    "\n",
    "    $ git fetch upstream\n",
    "    \n",
    "    $ git checkout main\n",
    "    \n",
    "    $ git merge upstream/main\n",
    "\n",
    "6) Now go to your GitHub page and find the `+` button in the upper right corner and add a new repository. Name the repo whatever you'd like, but something like `scientific_computing_work_fal2024` would be appropriate. Choose the repo to be **private**, use no template and don't add any extras (README, license or whatnot). \n",
    "\n",
    "7) Add me as a collaborator to your repo. Go to the repo and click on the settings (gear in upper right/middle). Go to Collaborators and Teams (top on the LHS) and click Add People. My username is `Hazboun6`. Make me a `Maintainer`. You can revoke my access when the class is over ;-)\n",
    "\n",
    "8) Clone your repo locally and add a folder named `work`.\n",
    "```bash\n",
    "$ mkdir work\n",
    "$\n",
    "```\n",
    "\n",
    "6) Now, navigate to `coursework/student_folders` folder. Make a folder in here labeled by your name in all lowercase(i.e. `firstname_lastname`).\n",
    "\n",
    "7) Copy your completed lecture notebooks (with all exercises in red finished) to your folder, adding your name to the file (e.g. `Lecture_1b_FirstnameLastname.ipynb`). This is what you will do for each week's lecture notebooks to get participation credit. Your lecture notebooks should have already been copies of my base lecture notebooks. **Never** run my base notebooks; always make a personal copy for yourself.\n",
    "\n",
    "8) Copy the **Homework 1** notebook (this file) to your folder, adding your name (e.g. `vu_astr8070_s22_hw1_FirstnameLastname.ipynb`) \n",
    "\n",
    "9) Complete the other problems listed below.\n",
    "\n",
    "10) Submit your homework as follows (making sure that your added files are contained within your student folder):\n",
    "\n",
    "    $ git add vu_astr8070_s22_hw1_FirstnameLastname.ipynb\n",
    "    \n",
    "    $ git commit -m \"Uploaded Homework 1\"\n",
    "    \n",
    "    $ git push\n",
    "   \n",
    "11) Similarly add, commit, and push your completed lecture notebooks. \n",
    "\n",
    "12) On your browser, navigate on GitHub to your fork of the course repository. You should see an option to initiate a `pull request` to merge your changes into the `main` repository. Your homework and lecture notebooks for the week are submitted when you initiate this pull request."
   ]
  },
  {
   "cell_type": "markdown",
   "metadata": {},
   "source": []
  },
  {
   "cell_type": "code",
   "execution_count": null,
   "metadata": {},
   "outputs": [],
   "source": []
  }
 ],
 "metadata": {
  "anaconda-cloud": {},
  "kernelspec": {
   "display_name": "Python 3",
   "language": "python",
   "name": "python3"
  },
  "language_info": {
   "codemirror_mode": {
    "name": "ipython",
    "version": 3
   },
   "file_extension": ".py",
   "mimetype": "text/x-python",
   "name": "python",
   "nbconvert_exporter": "python",
   "pygments_lexer": "ipython3",
   "version": "3.8.5"
  }
 },
 "nbformat": 4,
 "nbformat_minor": 2
}

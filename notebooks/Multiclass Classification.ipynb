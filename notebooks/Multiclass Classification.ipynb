{
 "cells": [
  {
   "cell_type": "code",
   "execution_count": 1,
   "id": "separate-repository",
   "metadata": {},
   "outputs": [],
   "source": [
    "import numpy as np\n",
    "from scipy.special import expit\n",
    "from scipy.optimize import minimize\n",
    "\n",
    "import matplotlib as mpl\n",
    "import matplotlib.pyplot as plt"
   ]
  },
  {
   "attachments": {},
   "cell_type": "markdown",
   "id": "incomplete-meeting",
   "metadata": {},
   "source": [
    "Recall our logistic cost function:\n",
    "$$\n",
    "J(\\theta) = -\\frac{1}{m}\\left[\\sum_{i=1}^m y^{(i)}\\log h_\\theta(x^{(i)}) + (1 - y^{(i)})\\log (1 - h_\\theta(x^{(i)})\\right]\n",
    "$$\n",
    "\n",
    "When using high-order polynomials in our cost function, this can tend to lead to over-fitting, where $\\theta_i$'s get large to create tightly turning decision boundaries.  We can avoid this through *regularization*, i.e., by adding a penalty term for large $\\theta_i$'s.\n",
    "\n",
    "$$\n",
    "J(\\theta) = -\\frac{1}{m}\\left[\\sum_{i=1}^m y^{(i)}\\log h_\\theta(x^{(i)}) + (1 - y^{(i)})\\log (1 - h_\\theta(x^{(i)})\\right] + \\frac{\\lambda}{2m}\\sum_{j=1}^n \\theta_j^2\n",
    "$$\n",
    "\n",
    "or vectorized\n",
    "\n",
    "$$\n",
    "J(\\theta) = \\frac{1}{m}\\left(y^T\\log(g(X\\theta)) + (1-y)^T\\log(1 - g(X\\theta)\\right) + \\frac{\\lambda}{2m}\\sum_{j=1}^n\\theta_j^2\n",
    "$$"
   ]
  },
  {
   "cell_type": "code",
   "execution_count": 2,
   "id": "reliable-emperor",
   "metadata": {},
   "outputs": [],
   "source": [
    "def cost(theta, X, y, reg):\n",
    "    m = y.size\n",
    "    h = expit(X.dot(theta))\n",
    "\n",
    "    J = -1/m * (y.T.dot(np.log(h)) + (1 - y).T.dot(np.log(1 - h)) + reg/(2*m) * np.sum(np.square(theta)))\n",
    "    J = J[0]\n",
    "\n",
    "    if np.isnan(J):\n",
    "        return np.inf\n",
    "    return J\n",
    "\n",
    "def cost_gradient(theta, X, y, reg):\n",
    "    m = y.size\n",
    "    theta = theta.reshape(-1, 1)\n",
    "    h = expit(X.dot(theta))\n",
    "\n",
    "    gradient = 1/m * X.T.dot(h - y) + reg/m * np.concatenate(([[0]], theta[1:])).reshape(-1, 1)\n",
    "    return gradient.flatten()"
   ]
  },
  {
   "attachments": {},
   "cell_type": "markdown",
   "id": "a560119c",
   "metadata": {},
   "source": [
    "For this demo let's use a fun data set that we can access through `scikit-learn`, which is the [MNIST database](https://en.wikipedia.org/wiki/MNIST_database), a famous well-curated database of handwritten digits."
   ]
  },
  {
   "cell_type": "code",
   "execution_count": 3,
   "id": "minimal-lebanon",
   "metadata": {},
   "outputs": [],
   "source": [
    "from sklearn import datasets\n",
    "digits = datasets.load_digits()"
   ]
  },
  {
   "cell_type": "code",
   "execution_count": 4,
   "id": "pressed-reflection",
   "metadata": {},
   "outputs": [
    {
     "data": {
      "text/plain": [
       "(1797, 64)"
      ]
     },
     "execution_count": 4,
     "metadata": {},
     "output_type": "execute_result"
    }
   ],
   "source": [
    "digits.data.shape"
   ]
  },
  {
   "attachments": {},
   "cell_type": "markdown",
   "id": "c5928fa6",
   "metadata": {},
   "source": [
    "We should look at the documentation, but it looks like we have 1797 examples of 64-dimensional observations.  64 is suggestively a square number, so let's look at its values in a square grid."
   ]
  },
  {
   "cell_type": "code",
   "execution_count": 5,
   "id": "hundred-force",
   "metadata": {},
   "outputs": [
    {
     "name": "stdout",
     "output_type": "stream",
     "text": [
      "0\n"
     ]
    },
    {
     "data": {
      "image/png": "[encoded data removed]",
      "text/plain": [
       "<Figure size 640x480 with 1 Axes>"
      ]
     },
     "metadata": {},
     "output_type": "display_data"
    }
   ],
   "source": [
    "i = np.random.choice(len(digits.data))\n",
    "plt.imshow(digits.data[i].reshape((8, 8)), cmap='gray_r')\n",
    "print(digits.target[i])"
   ]
  },
  {
   "attachments": {},
   "cell_type": "markdown",
   "id": "5d62fa85",
   "metadata": {},
   "source": [
    "## One-vs-All\n",
    "\n",
    "Let's build a classifier capable of identifying each of the 10 digits.  To do this we'll use the one-vs-all technique, where we will train 10 separate classifies, each tasked with identifying one particular digit from the rest, then maximize over the returned probabilities to predict a particular digit provided an image."
   ]
  },
  {
   "cell_type": "code",
   "execution_count": 6,
   "id": "changing-replacement",
   "metadata": {},
   "outputs": [],
   "source": [
    "training = np.random.choice([True, False], size=len(digits.data), p=[0.9, 0.1])\n",
    "validating = ~training"
   ]
  },
  {
   "cell_type": "code",
   "execution_count": 7,
   "id": "lyric-touch",
   "metadata": {},
   "outputs": [],
   "source": [
    "m = np.count_nonzero(training)\n",
    "mtest = np.count_nonzero(validating)\n",
    "X = np.column_stack([np.ones((m, 1)), digits.data[training]])\n",
    "Xtest = np.column_stack([np.ones((mtest, 1)), digits.data[validating]])\n",
    "\n",
    "y = digits.target[training].reshape(-1, 1)\n",
    "ytest = digits.target[validating].reshape(-1, 1)"
   ]
  },
  {
   "cell_type": "code",
   "execution_count": 8,
   "id": "worthy-deficit",
   "metadata": {},
   "outputs": [
    {
     "name": "stdout",
     "output_type": "stream",
     "text": [
      "[5 7 8 9 4]\n"
     ]
    },
    {
     "data": {
      "image/png": "[encoded data removed]",
      "text/plain": [
       "<Figure size 640x480 with 1 Axes>"
      ]
     },
     "metadata": {},
     "output_type": "display_data"
    }
   ],
   "source": [
    "n = 5\n",
    "sample = np.random.choice(X.shape[0], n)\n",
    "\n",
    "plt.imshow(X[sample, 1:].reshape(-1, 8), cmap='Greys')\n",
    "print(y[sample].flatten())"
   ]
  },
  {
   "cell_type": "code",
   "execution_count": 9,
   "id": "unable-potential",
   "metadata": {},
   "outputs": [],
   "source": [
    "def one_v_all(X, y, n_classes, reg=0.1):\n",
    "    n_features = X.shape[1]\n",
    "\n",
    "    theta0 = np.zeros(n_features)  # I'd like this to be shape (n_features, 1), but scipy complains now\n",
    "    thetas = np.zeros((n_classes, n_features))\n",
    "\n",
    "    for cls in np.arange(n_classes):\n",
    "        res = minimize(cost, theta0, args=(X, y==cls, reg), jac=cost_gradient, options={'maxiter':50})\n",
    "        thetas[cls] = res.x\n",
    "    return thetas"
   ]
  },
  {
   "cell_type": "code",
   "execution_count": 10,
   "id": "hungarian-accommodation",
   "metadata": {},
   "outputs": [],
   "source": [
    "with np.errstate(divide='ignore'):\n",
    "    theta = one_v_all(X, y, 10)"
   ]
  },
  {
   "cell_type": "code",
   "execution_count": 11,
   "id": "assisted-clinic",
   "metadata": {},
   "outputs": [
    {
     "data": {
      "text/plain": [
       "(10, 65)"
      ]
     },
     "execution_count": 11,
     "metadata": {},
     "output_type": "execute_result"
    }
   ],
   "source": [
    "theta.shape"
   ]
  },
  {
   "cell_type": "code",
   "execution_count": 12,
   "id": "initial-latter",
   "metadata": {},
   "outputs": [],
   "source": [
    "def predict_one_v_all(thetas, X):\n",
    "    Ps = expit(X.dot(theta.T))\n",
    "    \n",
    "    return np.argmax(Ps, axis=1)"
   ]
  },
  {
   "cell_type": "code",
   "execution_count": 13,
   "id": "disturbed-project",
   "metadata": {},
   "outputs": [
    {
     "name": "stdout",
     "output_type": "stream",
     "text": [
      "99.43890274314214 95.85492227979275\n"
     ]
    }
   ],
   "source": [
    "pred = predict_one_v_all(theta, X)\n",
    "predtest = predict_one_v_all(theta, Xtest)\n",
    "\n",
    "training_acc = np.mean(pred == y.ravel())*100\n",
    "validation_acc = np.mean(predtest == ytest.ravel())*100\n",
    "print(training_acc, validation_acc)"
   ]
  },
  {
   "cell_type": "code",
   "execution_count": 14,
   "id": "front-neighbor",
   "metadata": {},
   "outputs": [
    {
     "name": "stdout",
     "output_type": "stream",
     "text": [
      "prediction: [5]\n",
      "truth: [5]\n"
     ]
    },
    {
     "data": {
      "image/png": "[encoded data removed]",
      "text/plain": [
       "<Figure size 640x480 with 1 Axes>"
      ]
     },
     "metadata": {},
     "output_type": "display_data"
    }
   ],
   "source": [
    "i = np.random.choice(Xtest.shape[0])\n",
    "\n",
    "plt.imshow(Xtest[i, 1:].reshape(-1, 8), cmap='Greys')\n",
    "print(\"prediction: {}\".format(predict_one_v_all(theta, Xtest[i:i+1])))\n",
    "print(\"truth: {}\".format(ytest[i]))"
   ]
  },
  {
   "cell_type": "code",
   "execution_count": 15,
   "id": "hydraulic-distance",
   "metadata": {},
   "outputs": [
    {
     "name": "stdout",
     "output_type": "stream",
     "text": [
      "10\n"
     ]
    }
   ],
   "source": [
    "n_classes = len(np.unique(y))\n",
    "print(n_classes)\n",
    "C = np.zeros((n_classes, n_classes))"
   ]
  },
  {
   "cell_type": "code",
   "execution_count": 16,
   "id": "dried-lloyd",
   "metadata": {},
   "outputs": [],
   "source": [
    "for prediction, truth in zip(predtest, ytest):\n",
    "    C[prediction, truth] += 1"
   ]
  },
  {
   "cell_type": "code",
   "execution_count": 17,
   "id": "illegal-delay",
   "metadata": {},
   "outputs": [
    {
     "data": {
      "image/png": "[encoded data removed]",
      "text/plain": [
       "<Figure size 640x480 with 2 Axes>"
      ]
     },
     "metadata": {},
     "output_type": "display_data"
    }
   ],
   "source": [
    "plt.imshow(C)\n",
    "plt.colorbar()\n",
    "plt.ylabel('prediction')\n",
    "plt.xlabel('truth');"
   ]
  }
 ],
 "metadata": {
  "kernelspec": {
   "display_name": "Python 3 (ipykernel)",
   "language": "python",
   "name": "python3"
  },
  "language_info": {
   "codemirror_mode": {
    "name": "ipython",
    "version": 3
   },
   "file_extension": ".py",
   "mimetype": "text/x-python",
   "name": "python",
   "nbconvert_exporter": "python",
   "pygments_lexer": "ipython3",
   "version": "3.9.16"
  }
 },
 "nbformat": 4,
 "nbformat_minor": 5
}
